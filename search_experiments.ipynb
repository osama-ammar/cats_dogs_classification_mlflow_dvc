{
 "cells": [
  {
   "cell_type": "code",
   "execution_count": null,
   "metadata": {
    "pycharm": {
     "name": "#%%\n"
    }
   },
   "outputs": [],
   "source": [
    "import mlflow\n",
    "import pandas as pd\n",
    "import pytorch_lightning as pl\n",
    "import torch\n",
    "from mlflow.entities import ViewType\n",
    "from mlflow.tracking.client import MlflowClient\n",
    "from torch.utils.data import DataLoader\n",
    "\n",
    "from datasets.cats_vs_dogs import CatsDogsDataset, get_preprocessor\n",
    "from visualization.prediction_grid import prediction_grid"
   ]
  },
  {
   "cell_type": "code",
   "execution_count": null,
   "metadata": {
    "pycharm": {
     "name": "#%%\n"
    }
   },
   "outputs": [],
   "source": [
    "client = MlflowClient()\n",
    "name = \"Cats vs dogs classification\"\n",
    "experiment = client.get_experiment_by_name(name)"
   ]
  },
  {
   "cell_type": "code",
   "execution_count": null,
   "metadata": {
    "pycharm": {
     "name": "#%%\n"
    }
   },
   "outputs": [],
   "source": [
    "mlflow.tracking.get_tracking_uri()"
   ]
  },
  {
   "cell_type": "code",
   "execution_count": null,
   "metadata": {
    "pycharm": {
     "name": "#%%\n"
    }
   },
   "outputs": [],
   "source": [
    "experiments = client.list_experiments()\n",
    "experiments"
   ]
  },
  {
   "cell_type": "code",
   "execution_count": null,
   "metadata": {
    "pycharm": {
     "name": "#%%\n"
    }
   },
   "outputs": [],
   "source": [
    "query = \"params.model = 'mobilenetv2' and metrics.val_accuracy > 0.5\"\n",
    "runs = client.search_runs(\n",
    "    experiment_ids=experiment.experiment_id,\n",
    "    filter_string=query,\n",
    "    run_view_type=ViewType.ACTIVE_ONLY\n",
    ")"
   ]
  },
  {
   "cell_type": "code",
   "execution_count": null,
   "metadata": {
    "pycharm": {
     "name": "#%%\n"
    }
   },
   "outputs": [],
   "source": [
    "len(runs)"
   ]
  },
  {
   "cell_type": "code",
   "execution_count": null,
   "metadata": {
    "pycharm": {
     "name": "#%%\n"
    }
   },
   "outputs": [],
   "source": [
    "runs[0]"
   ]
  },
  {
   "cell_type": "code",
   "execution_count": null,
   "metadata": {
    "pycharm": {
     "name": "#%%\n"
    }
   },
   "outputs": [],
   "source": [
    "runs[0].data.metrics[\"val_accuracy\"]"
   ]
  },
  {
   "cell_type": "markdown",
   "metadata": {
    "pycharm": {
     "name": "#%% md\n"
    }
   },
   "source": [
    "Find the best run based on validation accuracy"
   ]
  },
  {
   "cell_type": "code",
   "execution_count": null,
   "metadata": {
    "pycharm": {
     "name": "#%%\n"
    }
   },
   "outputs": [],
   "source": [
    "best_run = sorted(runs, key=lambda run: run.data.metrics[\"val_accuracy\"], reverse=True)[0]\n",
    "print(best_run)"
   ]
  },
  {
   "cell_type": "code",
   "execution_count": null,
   "metadata": {
    "pycharm": {
     "name": "#%%\n"
    }
   },
   "outputs": [],
   "source": [
    "logged_model_uri = f\"runs:/{best_run.info.run_id}/model\"\n",
    "print(\"logged model uri :\", logged_model_uri)\n",
    "loaded_model = mlflow.pytorch.load_model(logged_model_uri)"
   ]
  },
  {
   "cell_type": "code",
   "execution_count": null,
   "metadata": {
    "pycharm": {
     "name": "#%%\n"
    }
   },
   "outputs": [],
   "source": [
    "seed = 42\n",
    "pl.seed_everything(seed=seed, workers=True)\n",
    "df_test = pd.read_csv(\"data_splits/test.csv\")\n",
    "dataset_test = CatsDogsDataset(\n",
    "    df_test[\"img_fp\"].values,\n",
    "    df_test[\"is_dog\"].values,\n",
    "    preprocess=get_preprocessor(imagenet=(best_run.data.params[\"use_imagenet_pretrained_weights\"])),\n",
    ")\n",
    "dataloader_test = DataLoader(\n",
    "    dataset_test,\n",
    "    batch_size=16,\n",
    "    num_workers=8,\n",
    ")"
   ]
  },
  {
   "cell_type": "code",
   "execution_count": null,
   "metadata": {
    "pycharm": {
     "name": "#%%\n"
    }
   },
   "outputs": [],
   "source": [
    "print(\"number of images in the test set:\", len(dataset_test))"
   ]
  },
  {
   "cell_type": "code",
   "execution_count": null,
   "metadata": {
    "pycharm": {
     "name": "#%%\n"
    }
   },
   "outputs": [],
   "source": [
    "trainer = pl.Trainer(\n",
    "    gpus=1,\n",
    "    precision=int(best_run.data.params[\"precision\"]),\n",
    "    deterministic=True,\n",
    ")\n",
    "trainer.test(loaded_model, dataloaders=dataloader_test)"
   ]
  },
  {
   "cell_type": "code",
   "execution_count": null,
   "metadata": {
    "pycharm": {
     "name": "#%%\n"
    }
   },
   "outputs": [],
   "source": [
    "preds = trainer.predict(loaded_model, dataloaders=dataloader_test)"
   ]
  },
  {
   "cell_type": "markdown",
   "metadata": {
    "pycharm": {
     "name": "#%% md\n"
    }
   },
   "source": [
    "Visualize predictions on a small batch of the test set"
   ]
  },
  {
   "cell_type": "code",
   "execution_count": null,
   "metadata": {
    "pycharm": {
     "name": "#%%\n"
    }
   },
   "outputs": [],
   "source": [
    "dataloader_test_viz = DataLoader(\n",
    "    dataset_test,\n",
    "    batch_size=15,\n",
    "    num_workers=8,\n",
    "    shuffle=True,\n",
    ")\n",
    "\n",
    "device = \"cuda\" if torch.cuda.is_available() else \"cpu\"\n",
    "loaded_model.eval().to(device)\n",
    "\n",
    "batch_iter = iter(dataloader_test_viz)"
   ]
  },
  {
   "cell_type": "code",
   "execution_count": null,
   "metadata": {
    "pycharm": {
     "name": "#%%\n"
    }
   },
   "outputs": [],
   "source": [
    "inputs, labels, batch_fps = next(batch_iter)\n",
    "probas = torch.sigmoid(loaded_model(inputs.to(device))).detach().squeeze().cpu()\n",
    "accuracy = ((probas > 0.5) == labels).float().mean().item()\n",
    "print(\"accuracy on test set batch\", accuracy)\n",
    "\n",
    "classes = [\"cat\", \"dog\"]\n",
    "labels_str = list(map(lambda int_label: classes[int(int_label)], labels))\n",
    "pred_labels_str = list(map(lambda proba: classes[int(proba > 0.5)], probas))\n",
    "_ = prediction_grid(batch_fps, probas, pred_labels=pred_labels_str, labels=labels_str, ncols=5)"
   ]
  },
  {
   "cell_type": "code",
   "execution_count": null,
   "metadata": {
    "pycharm": {
     "name": "#%%\n"
    }
   },
   "outputs": [],
   "source": []
  }
 ],
 "metadata": {
  "kernelspec": {
   "display_name": "Python 3",
   "language": "python",
   "name": "python3"
  },
  "language_info": {
   "codemirror_mode": {
    "name": "ipython",
    "version": 2
   },
   "file_extension": ".py",
   "mimetype": "text/x-python",
   "name": "python",
   "nbconvert_exporter": "python",
   "pygments_lexer": "ipython2",
   "version": "2.7.6"
  }
 },
 "nbformat": 4,
 "nbformat_minor": 0
}
